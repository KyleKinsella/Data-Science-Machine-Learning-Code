{
 "cells": [
  {
   "cell_type": "code",
   "execution_count": null,
   "metadata": {},
   "outputs": [],
   "source": [
    "import tensorflow as tf\n",
    "from tensorflow import keras\n",
    "from tensorflow.keras.layers import Dense, Dropout, LSTM\n",
    "from matplotlib import pyplot as plt\n",
    "%matplotlib inline\n",
    "import numpy as np\n",
    "from tensorflow.keras.preprocessing import image\n",
    "import random"
   ]
  },
  {
   "cell_type": "code",
   "execution_count": null,
   "metadata": {},
   "outputs": [],
   "source": [
    "## here I am getting the mnist dataset from tensorflow ##\n",
    "mnist = tf.keras.datasets.mnist"
   ]
  },
  {
   "cell_type": "code",
   "execution_count": null,
   "metadata": {},
   "outputs": [],
   "source": [
    "## here I am splitting the dataset into training data and test data ##\n",
    "(X_train, y_train), (X_test, y_test) = mnist.load_data()"
   ]
  },
  {
   "cell_type": "code",
   "execution_count": null,
   "metadata": {},
   "outputs": [],
   "source": [
    "X_train.shape"
   ]
  },
  {
   "cell_type": "code",
   "execution_count": null,
   "metadata": {},
   "outputs": [],
   "source": [
    "X_train[0].shape"
   ]
  },
  {
   "cell_type": "code",
   "execution_count": null,
   "metadata": {},
   "outputs": [],
   "source": [
    "## here I am normalizing my data for each pixel to be either a 0 or a 1 ##\n",
    "X_train = X_train/255.0\n",
    "x_test = X_test/255.0"
   ]
  },
  {
   "cell_type": "code",
   "execution_count": null,
   "metadata": {},
   "outputs": [],
   "source": [
    "## here I am making a sequential machine learning model ##\n",
    "model = keras.Sequential()\n",
    "\n",
    "## here I am making an LSTM with 128 units and my activation function is Relu ##\n",
    "## return_sequences = True: this makes sure the output is 3d, therefore we can allow stacking of LSTM layers\n",
    "model.add(LSTM(units=128, activation='relu', return_sequences=True))\n",
    "## here I am doing a dropout to prevent my model from overfitting ##\n",
    "## 20% of the neurons in my neural network will be stopped / disabled ##\n",
    "model.add(Dropout(0.2))\n",
    "\n",
    "model.add(LSTM(units=128, activation='relu'))\n",
    "model.add(Dropout(0.2))\n",
    "\n",
    "## here I have a fully connected Dense layer with 32 neurons I am using Relu for my activation function ##\n",
    "model.add(Dense(32, activation='relu'))\n",
    "model.add(Dropout(0.2))\n",
    "\n",
    "## here I have an ouptut of 10 neurons, I use soft-max to get a probability for each class ##\n",
    "model.add(Dense(10, activation='softmax'))"
   ]
  },
  {
   "cell_type": "code",
   "execution_count": null,
   "metadata": {},
   "outputs": [],
   "source": [
    "## this gives me a summary of my model ##\n",
    "model.summary()"
   ]
  },
  {
   "cell_type": "code",
   "execution_count": null,
   "metadata": {},
   "outputs": [],
   "source": [
    "## here I am setting the learning rate to be very small, this is used for the adjustment of the weights during training ##\n",
    "## and I am also using decay, decay recues the learning rate over time to improve convergence and prevent overshooting ## \n",
    "opt = tf.keras.optimizers.Adam(learning_rate=1e-3, decay=1e-5)"
   ]
  },
  {
   "cell_type": "code",
   "execution_count": null,
   "metadata": {},
   "outputs": [],
   "source": [
    "## here I am setting the loss to be: used for multi-class classification, this is for integers. ##\n",
    "## for optimizer I am setting the configuration for the weight adjustment while in training ##\n",
    "## then I get the accuracy during training and evaluation ## \n",
    "model.compile(loss='sparse_categorical_crossentropy',\n",
    "              optimizer=opt,\n",
    "              metrics=['accuracy'])"
   ]
  },
  {
   "cell_type": "code",
   "execution_count": null,
   "metadata": {},
   "outputs": [],
   "source": [
    "plt.imshow(X_train[4])"
   ]
  },
  {
   "cell_type": "code",
   "execution_count": null,
   "metadata": {},
   "outputs": [],
   "source": [
    "## here I am training my rnn(sequential) model, on my X_train and y_train ##\n",
    "## I train my model for 3 epochs. An epoch is one iteration over the entire training dataset ##\n",
    "## then I have my validation_data, this is used to evaluate performance on unseen data after each epoch ## \n",
    "model.fit(X_train, y_train, epochs=3, validation_data=(x_test, y_test))"
   ]
  },
  {
   "cell_type": "code",
   "execution_count": null,
   "metadata": {},
   "outputs": [],
   "source": [
    "## here I have wrote a function. My function takes in a number(index), depending on what number you enter\n",
    "## this is go the the X_train index for the number that is entered, then my model will predict what number it thinks it is,\n",
    "## this is based off the training data ##\n",
    "def rnnPredictNumber(number):\n",
    "    img_array = X_train[number]\n",
    "\n",
    "    ## here I am adding a batch dimension, this is because the model expects a batch for an input ## \n",
    "    img_array = np.expand_dims(img_array, axis=0)\n",
    "    \n",
    "    ## here my model makes a prediction ## \n",
    "    predictions = model.predict(img_array)\n",
    "\n",
    "    ## here my model finds the class with the highest probability\n",
    "    predicted_class = np.argmax(predictions)\n",
    "    print(f\"Predicted class: {predicted_class}\")\n",
    "\n",
    "    plt.figure(figsize=(5, 5))\n",
    "    plt.imshow(img_array.squeeze(), cmap=\"gray\") \n",
    "\n",
    "    ## here I am removing a dimension and showing it in greg-scale ## \n",
    "    plt.title(f\"Predicted: {predicted_class}\")\n",
    "    \n",
    "    ## here I turn off the numbers on the matplotlib graph ## \n",
    "    plt.axis(\"off\")\n",
    "    plt.show()"
   ]
  },
  {
   "cell_type": "code",
   "execution_count": 18,
   "metadata": {},
   "outputs": [
    {
     "name": "stdout",
     "output_type": "stream",
     "text": [
      "\u001b[1m1/1\u001b[0m \u001b[32m━━━━━━━━━━━━━━━━━━━━\u001b[0m\u001b[37m\u001b[0m \u001b[1m0s\u001b[0m 46ms/step\n",
      "Predicted class: 8\n"
     ]
    },
    {
     "data": {
      "image/png": "[encoded data removed]",
      "text/plain": [
       "<Figure size 500x500 with 1 Axes>"
      ]
     },
     "metadata": {},
     "output_type": "display_data"
    },
    {
     "name": "stdout",
     "output_type": "stream",
     "text": [
      "\u001b[1m1/1\u001b[0m \u001b[32m━━━━━━━━━━━━━━━━━━━━\u001b[0m\u001b[37m\u001b[0m \u001b[1m0s\u001b[0m 35ms/step\n",
      "Predicted class: 0\n"
     ]
    },
    {
     "data": {
      "image/png": "[encoded data removed]",
      "text/plain": [
       "<Figure size 500x500 with 1 Axes>"
      ]
     },
     "metadata": {},
     "output_type": "display_data"
    },
    {
     "name": "stdout",
     "output_type": "stream",
     "text": [
      "\u001b[1m1/1\u001b[0m \u001b[32m━━━━━━━━━━━━━━━━━━━━\u001b[0m\u001b[37m\u001b[0m \u001b[1m0s\u001b[0m 33ms/step\n",
      "Predicted class: 7\n"
     ]
    },
    {
     "data": {
      "image/png": "[encoded data removed]",
      "text/plain": [
       "<Figure size 500x500 with 1 Axes>"
      ]
     },
     "metadata": {},
     "output_type": "display_data"
    }
   ],
   "source": [
    "for i in range(0, 3):\n",
    "    ## here I get a random number(image) in my test data ##\n",
    "    randomNumberImage = random.choice(range(len(x_test)))\n",
    "    \n",
    "    ## then I call my rnn model and I pass in the \"randomNumberImage\" variable\n",
    "    rnnPredictNumber(randomNumberImage)"
   ]
  },
  {
   "cell_type": "code",
   "execution_count": 22,
   "metadata": {},
   "outputs": [
    {
     "name": "stdout",
     "output_type": "stream",
     "text": [
      "\u001b[1m1/1\u001b[0m \u001b[32m━━━━━━━━━━━━━━━━━━━━\u001b[0m\u001b[37m\u001b[0m \u001b[1m0s\u001b[0m 43ms/step\n",
      "Predicted class: 4\n"
     ]
    },
    {
     "data": {
      "image/png": "[encoded data removed]",
      "text/plain": [
       "<Figure size 500x500 with 1 Axes>"
      ]
     },
     "metadata": {},
     "output_type": "display_data"
    }
   ],
   "source": [
    "rnnPredictNumber(2)"
   ]
  },
  {
   "cell_type": "code",
   "execution_count": null,
   "metadata": {},
   "outputs": [],
   "source": []
  }
 ],
 "metadata": {
  "kernelspec": {
   "display_name": "Python 3",
   "language": "python",
   "name": "python3"
  },
  "language_info": {
   "codemirror_mode": {
    "name": "ipython",
    "version": 3
   },
   "file_extension": ".py",
   "mimetype": "text/x-python",
   "name": "python",
   "nbconvert_exporter": "python",
   "pygments_lexer": "ipython3",
   "version": "3.11.9"
  }
 },
 "nbformat": 4,
 "nbformat_minor": 2
}
