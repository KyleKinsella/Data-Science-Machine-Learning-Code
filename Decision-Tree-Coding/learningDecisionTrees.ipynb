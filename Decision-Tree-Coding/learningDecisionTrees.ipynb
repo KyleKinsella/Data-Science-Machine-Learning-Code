{
 "cells": [
  {
   "cell_type": "code",
   "execution_count": 73,
   "metadata": {},
   "outputs": [
    {
     "name": "stdout",
     "output_type": "stream",
     "text": [
      "    age  experience   rank  nation   go\n",
      "0    36           10      9     uk   no\n",
      "1    42           12      4    usa   no\n",
      "2    23            4      6      n   no\n",
      "3    52            4      4    usa   no\n",
      "4    43           21      8    usa  yes\n",
      "5    44           14      5     uk   no\n",
      "6    66            3      7      n  yes\n",
      "7    35           14      9     uk  yes\n",
      "8    52           13      7      n  yes\n",
      "9    35            5      9      n  yes\n",
      "10   24            3      5    usa   no\n",
      "11   18            3      7     uk  yes\n",
      "12   45            9      9     uk  yes\n"
     ]
    }
   ],
   "source": [
    "import pandas as pd\n",
    "\n",
    "data = \"data.csv\"\n",
    "\n",
    "read = pd.read_csv(data)\n",
    "\n",
    "print(read)"
   ]
  },
  {
   "cell_type": "code",
   "execution_count": 74,
   "metadata": {},
   "outputs": [],
   "source": [
    "d = {\"uk\": 0, \"usa\": 1, \"n\": 2}\n",
    "\n",
    "read[\"nation\"] = read[\"nation\"].map(d)"
   ]
  },
  {
   "cell_type": "code",
   "execution_count": 75,
   "metadata": {},
   "outputs": [],
   "source": [
    "d = {\"yes\": 1, \"no\": 0}\n",
    "\n",
    "read[\"go\"] = read[\"go\"].map(d)"
   ]
  },
  {
   "cell_type": "code",
   "execution_count": 76,
   "metadata": {},
   "outputs": [
    {
     "name": "stdout",
     "output_type": "stream",
     "text": [
      "    age  experience   rank   nation  go\n",
      "0    36           10      9       0   0\n",
      "1    42           12      4       1   0\n",
      "2    23            4      6       2   0\n",
      "3    52            4      4       1   0\n",
      "4    43           21      8       1   1\n",
      "5    44           14      5       0   0\n",
      "6    66            3      7       2   1\n",
      "7    35           14      9       0   1\n",
      "8    52           13      7       2   1\n",
      "9    35            5      9       2   1\n",
      "10   24            3      5       1   0\n",
      "11   18            3      7       0   1\n",
      "12   45            9      9       0   1\n"
     ]
    }
   ],
   "source": [
    "print(read)"
   ]
  },
  {
   "cell_type": "code",
   "execution_count": 77,
   "metadata": {},
   "outputs": [
    {
     "name": "stdout",
     "output_type": "stream",
     "text": [
      "x:\n",
      "     age  nation  go\n",
      "0    36       0   0\n",
      "1    42       1   0\n",
      "2    23       2   0\n",
      "3    52       1   0\n",
      "4    43       1   1\n",
      "5    44       0   0\n",
      "6    66       2   1\n",
      "7    35       0   1\n",
      "8    52       2   1\n",
      "9    35       2   1\n",
      "10   24       1   0\n",
      "11   18       0   1\n",
      "12   45       0   1\n",
      "\n",
      "y:\n",
      "0     0\n",
      "1     0\n",
      "2     0\n",
      "3     0\n",
      "4     1\n",
      "5     0\n",
      "6     1\n",
      "7     1\n",
      "8     1\n",
      "9     1\n",
      "10    0\n",
      "11    1\n",
      "12    1\n",
      "Name: go, dtype: int64\n"
     ]
    }
   ],
   "source": [
    "features = ['age', 'nation', 'go']\n",
    "\n",
    "# features = ['x', 'y']\n",
    "\n",
    "X = read[features]\n",
    "y = read['go']\n",
    "\n",
    "print(\"x:\\n\", X)\n",
    "print(\"\\ny:\")\n",
    "print(y)"
   ]
  },
  {
   "cell_type": "code",
   "execution_count": 78,
   "metadata": {},
   "outputs": [],
   "source": [
    "from sklearn import tree\n",
    "from sklearn.tree import DecisionTreeClassifier\n",
    "import matplotlib.pyplot as plt"
   ]
  },
  {
   "cell_type": "code",
   "execution_count": 79,
   "metadata": {},
   "outputs": [],
   "source": [
    "import sys\n",
    "import matplotlib\n",
    "#import matplotlib.style\n",
    "matplotlib.use('Agg')\n",
    "\n",
    "\n",
    "dtree = DecisionTreeClassifier()\n",
    "dtree = dtree.fit(X, y)\n",
    "\n",
    "\n",
    "features = ['age', 'nation', 'go']\n",
    "\n",
    "# features = ['x', 'y']\n",
    "\n",
    "tree.plot_tree(dtree, feature_names=features)\n",
    "plt.savefig(\"seaborn-v0_8-whitegrid\")\n",
    "sys.stdout.flush()\n",
    "\n",
    "\n",
    "# print(plt.style.available)\n"
   ]
  },
  {
   "cell_type": "code",
   "execution_count": 80,
   "metadata": {},
   "outputs": [
    {
     "name": "stdout",
     "output_type": "stream",
     "text": [
      "[1]\n"
     ]
    },
    {
     "name": "stderr",
     "output_type": "stream",
     "text": [
      "C:\\Users\\Kylek\\AppData\\Local\\Packages\\PythonSoftwareFoundation.Python.3.11_qbz5n2kfra8p0\\LocalCache\\local-packages\\Python311\\site-packages\\sklearn\\base.py:493: UserWarning: X does not have valid feature names, but DecisionTreeClassifier was fitted with feature names\n",
      "  warnings.warn(\n"
     ]
    }
   ],
   "source": [
    "print(dtree.predict([[40, 10, 7]]))"
   ]
  },
  {
   "cell_type": "code",
   "execution_count": 81,
   "metadata": {},
   "outputs": [
    {
     "name": "stdout",
     "output_type": "stream",
     "text": [
      "   number play   outlook  humidity   wind  temp\n",
      "0       1  yes       sun        50   True    20\n",
      "1       2  yes      rain        60   True    12\n",
      "2       3   no  overcast        70  False    12\n",
      "3       4  yes     rain         89  False    15\n",
      "4       5   no       sun        90   True     8\n",
      "5       6   no  overcast        24   True     3\n",
      "6       7  yes      rain        44   True    14\n",
      "7       8  yes      rain        22  False    23\n"
     ]
    }
   ],
   "source": [
    "data = \"play.csv\"\n",
    "\n",
    "file = pd.read_csv(data)\n",
    "\n",
    "print(file)\n",
    "# print(file[['play']])"
   ]
  },
  {
   "cell_type": "code",
   "execution_count": 82,
   "metadata": {},
   "outputs": [],
   "source": [
    "info = {'yes': 1, 'no': 0}\n",
    "\n",
    "file['play'] = file['play'].map(info)"
   ]
  },
  {
   "cell_type": "code",
   "execution_count": 83,
   "metadata": {},
   "outputs": [],
   "source": [
    "outlook = {'rain': 0, 'sun': 1, 'overcast': 2}\n",
    "\n",
    "file['outlook'] = file['outlook'].map(outlook)"
   ]
  },
  {
   "cell_type": "code",
   "execution_count": 84,
   "metadata": {},
   "outputs": [],
   "source": [
    "# wind = {'TRUE': 1, 'FALSE': 0}\n",
    "# file['wind'] = file['wind'].map(wind)"
   ]
  },
  {
   "cell_type": "code",
   "execution_count": 85,
   "metadata": {},
   "outputs": [
    {
     "name": "stdout",
     "output_type": "stream",
     "text": [
      "   number  play  outlook  humidity   wind  temp\n",
      "0       1     1      1.0        50   True    20\n",
      "1       2     1      0.0        60   True    12\n",
      "2       3     0      2.0        70  False    12\n",
      "3       4     1      NaN        89  False    15\n",
      "4       5     0      1.0        90   True     8\n",
      "5       6     0      2.0        24   True     3\n",
      "6       7     1      0.0        44   True    14\n",
      "7       8     1      0.0        22  False    23\n"
     ]
    }
   ],
   "source": [
    "print(file)"
   ]
  },
  {
   "cell_type": "code",
   "execution_count": 92,
   "metadata": {},
   "outputs": [
    {
     "name": "stdout",
     "output_type": "stream",
     "text": [
      "X: \n",
      "    outlook  humidity   wind  temp\n",
      "0      1.0        50   True    20\n",
      "1      0.0        60   True    12\n",
      "2      2.0        70  False    12\n",
      "3      NaN        89  False    15\n",
      "4      1.0        90   True     8\n",
      "5      2.0        24   True     3\n",
      "6      0.0        44   True    14\n",
      "7      0.0        22  False    23 \n",
      "\n",
      "y:\n",
      " 0    1\n",
      "1    1\n",
      "2    0\n",
      "3    1\n",
      "4    0\n",
      "5    0\n",
      "6    1\n",
      "7    1\n",
      "Name: play, dtype: int64\n"
     ]
    }
   ],
   "source": [
    "features = ['outlook', 'humidity', 'wind', 'temp']\n",
    "\n",
    "X = file[features]\n",
    "y = file['play']\n",
    "\n",
    "print(\"X: \\n\", X, \"\\n\")\n",
    "print(\"y:\\n\", y)"
   ]
  },
  {
   "cell_type": "code",
   "execution_count": 93,
   "metadata": {},
   "outputs": [],
   "source": [
    "dtree = DecisionTreeClassifier()\n",
    "dtree = dtree.fit(X, y)"
   ]
  },
  {
   "cell_type": "code",
   "execution_count": 94,
   "metadata": {},
   "outputs": [
    {
     "data": {
      "text/plain": [
       "[Text(0.6, 0.8333333333333334, 'temp <= 13.0\\ngini = 0.469\\nsamples = 8\\nvalue = [3, 5]'),\n",
       " Text(0.4, 0.5, 'outlook <= 0.5\\ngini = 0.375\\nsamples = 4\\nvalue = [3, 1]'),\n",
       " Text(0.5, 0.6666666666666667, 'True  '),\n",
       " Text(0.2, 0.16666666666666666, 'gini = 0.0\\nsamples = 1\\nvalue = [0, 1]'),\n",
       " Text(0.6, 0.16666666666666666, 'gini = 0.0\\nsamples = 3\\nvalue = [3, 0]'),\n",
       " Text(0.8, 0.5, 'gini = 0.0\\nsamples = 4\\nvalue = [0, 4]'),\n",
       " Text(0.7, 0.6666666666666667, '  False')]"
      ]
     },
     "execution_count": 94,
     "metadata": {},
     "output_type": "execute_result"
    }
   ],
   "source": [
    "tree.plot_tree(dtree, feature_names=features)"
   ]
  },
  {
   "cell_type": "code",
   "execution_count": 96,
   "metadata": {},
   "outputs": [],
   "source": [
    "# plt.savefig(sys.stdout.buffer) -- this doesnt work for some reason...\n",
    "plt.savefig(\"seaborn-v0_8-whitegrid\")\n",
    "sys.stdout.flush()"
   ]
  },
  {
   "cell_type": "code",
   "execution_count": null,
   "metadata": {},
   "outputs": [],
   "source": []
  }
 ],
 "metadata": {
  "kernelspec": {
   "display_name": "Python 3",
   "language": "python",
   "name": "python3"
  },
  "language_info": {
   "codemirror_mode": {
    "name": "ipython",
    "version": 3
   },
   "file_extension": ".py",
   "mimetype": "text/x-python",
   "name": "python",
   "nbconvert_exporter": "python",
   "pygments_lexer": "ipython3",
   "version": "3.11.9"
  }
 },
 "nbformat": 4,
 "nbformat_minor": 2
}
